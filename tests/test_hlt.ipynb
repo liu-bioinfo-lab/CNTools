{
 "cells": [
  {
   "cell_type": "code",
   "execution_count": 9,
   "metadata": {},
   "outputs": [],
   "source": [
    "from cntools.datasets import load_ct_order, prep_hlt, Dataset\n",
    "from cntools.identification import CC, CFIDF, CNE, Spatial_LDA\n",
    "from cntools.smoothing import NaiveSmooth, HMRF\n",
    "import os\n",
    "import pandas as pd\n",
    "import pickle"
   ]
  },
  {
   "cell_type": "code",
   "execution_count": 2,
   "metadata": {},
   "outputs": [],
   "source": [
    "# Download CRC, T2D, and HLT data\n",
    "# os.system('gdown --folder https://drive.google.com/drive/folders/1eC3ahSIzCZ5vq_bynSl3IX7V9w_bQgg8?usp=share_link')"
   ]
  },
  {
   "cell_type": "code",
   "execution_count": 10,
   "metadata": {},
   "outputs": [],
   "source": [
    "df = prep_hlt(pd.read_csv('data/HLT/Lymphoid_Data.csv'))\n",
    "ct_order = None\n",
    "ds = Dataset(df, ct_order)"
   ]
  },
  {
   "cell_type": "code",
   "execution_count": 4,
   "metadata": {},
   "outputs": [
    {
     "name": "stderr",
     "output_type": "stream",
     "text": [
      "100%|██████████| 3/3 [00:34<00:00, 11.61s/it]\n"
     ]
    },
    {
     "name": "stdout",
     "output_type": "stream",
     "text": [
      "Entropy: 2.085, Size: 32.13\n"
     ]
    }
   ],
   "source": [
    "# identifier = CC(n_cns=11, m=20)\n",
    "# identifier = CFIDF(n_cns=11, eps=23, r=0.8)\n",
    "identifier = CNE(n_cns=11, perp=15, lam=0.25)\n",
    "\n",
    "cns = identifier.fit(ds)"
   ]
  },
  {
   "cell_type": "code",
   "execution_count": 5,
   "metadata": {},
   "outputs": [
    {
     "name": "stdout",
     "output_type": "stream",
     "text": [
      "Entropy: 2.105, Size: 47.62\n"
     ]
    }
   ],
   "source": [
    "smoother = NaiveSmooth(ds=ds, n_cns=identifier.n_cns, feats=identifier.feats, s=3)\n",
    "cns_smoothed_naive = smoother.fit(cns)"
   ]
  },
  {
   "cell_type": "code",
   "execution_count": 6,
   "metadata": {},
   "outputs": [
    {
     "name": "stdout",
     "output_type": "stream",
     "text": [
      "Entropy: 2.170, Size: 42.87\n"
     ]
    }
   ],
   "source": [
    "smoother = HMRF(ds=ds, n_cns=identifier.n_cns, eps=29, beta=9, max_neighbors=100)\n",
    "cns_smoothed_hmrf = smoother.fit(cns)"
   ]
  },
  {
   "cell_type": "code",
   "execution_count": 8,
   "metadata": {},
   "outputs": [],
   "source": [
    "df.to_csv('data/HLT/HLT_df.csv', index=False)\n",
    "pickle.dump(ds, open(f'data/HLT/HLT_ds.pkl', 'wb'))\n",
    "pickle.dump(cns, open(f'cn/HLT/CNE/cns_n_cns=11_perp=15_lam=0.25.pkl', 'wb'))\n",
    "pickle.dump(cns_smoothed_naive, open(f'cn/HLT/CNE/cns_n_cns=11_perp=15_lam=0.25_naive.pkl', 'wb'))\n",
    "pickle.dump(cns_smoothed_hmrf, open(f'cn/HLT/CNE/cns_n_cns=11_perp=15_lam=0.25_hmrf.pkl', 'wb'))"
   ]
  }
 ],
 "metadata": {
  "kernelspec": {
   "display_name": "env",
   "language": "python",
   "name": "python3"
  },
  "language_info": {
   "codemirror_mode": {
    "name": "ipython",
    "version": 3
   },
   "file_extension": ".py",
   "mimetype": "text/x-python",
   "name": "python",
   "nbconvert_exporter": "python",
   "pygments_lexer": "ipython3",
   "version": "3.8.17"
  }
 },
 "nbformat": 4,
 "nbformat_minor": 2
}
