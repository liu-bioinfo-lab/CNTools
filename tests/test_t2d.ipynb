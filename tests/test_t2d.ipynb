{
 "cells": [
  {
   "cell_type": "code",
   "execution_count": 2,
   "metadata": {},
   "outputs": [],
   "source": [
    "from CNTools.datasets import load_ct_order, prep_t2d, Dataset\n",
    "from CNTools.identification import CC, CFIDF, CNE, Spatial_LDA\n",
    "from CNTools.smoothing import NaiveSmooth, HMRF\n",
    "import os\n",
    "import pandas as pd\n",
    "import pickle"
   ]
  },
  {
   "cell_type": "code",
   "execution_count": 4,
   "metadata": {},
   "outputs": [],
   "source": [
    "# Download CRC, T2D, and HLT data\n",
    "# os.system('gdown --folder https://drive.google.com/drive/folders/1eC3ahSIzCZ5vq_bynSl3IX7V9w_bQgg8?usp=share_link')"
   ]
  },
  {
   "cell_type": "code",
   "execution_count": 5,
   "metadata": {},
   "outputs": [],
   "source": [
    "df = prep_t2d(pd.read_csv('data/T2D/Cell-ID_by-islet.csv'))\n",
    "ct_order = load_ct_order('data/T2D/ct_order.json')\n",
    "ds = Dataset(df, ct_order)"
   ]
  },
  {
   "cell_type": "code",
   "execution_count": 6,
   "metadata": {},
   "outputs": [
    {
     "name": "stderr",
     "output_type": "stream",
     "text": [
      "100%|██████████| 16/16 [00:01<00:00, 14.22it/s]\n"
     ]
    },
    {
     "name": "stdout",
     "output_type": "stream",
     "text": [
      "Entropy: 1.518, Size: 18.19\n"
     ]
    }
   ],
   "source": [
    "# identifier = CC(n_cns=6, m=5)\n",
    "identifier = CNE(n_cns=6, perp=15, lam=0.25)\n",
    "# identifier = Spatial_LDA(n_cns=6, eps=100, b=0.25, train_size_fraction=0.989)\n",
    "\n",
    "cns = identifier.fit(ds)"
   ]
  },
  {
   "cell_type": "code",
   "execution_count": 7,
   "metadata": {},
   "outputs": [
    {
     "name": "stdout",
     "output_type": "stream",
     "text": [
      "Entropy: 1.551, Size: 22.45\n"
     ]
    }
   ],
   "source": [
    "smoother = NaiveSmooth(ds=ds, n_cns=identifier.n_cns, feats=identifier.feats, s=3)\n",
    "cns_smoothed_naive = smoother.fit(cns)"
   ]
  },
  {
   "cell_type": "code",
   "execution_count": 8,
   "metadata": {},
   "outputs": [
    {
     "name": "stdout",
     "output_type": "stream",
     "text": [
      "Entropy: 1.640, Size: 21.67\n"
     ]
    }
   ],
   "source": [
    "smoother = HMRF(ds=ds, n_cns=identifier.n_cns, eps=45, beta=9)\n",
    "cns_smoothed_hmrf = smoother.fit(cns)"
   ]
  },
  {
   "cell_type": "code",
   "execution_count": 9,
   "metadata": {},
   "outputs": [],
   "source": [
    "df.to_csv('data/T2D/T2D_df.csv', index=False)\n",
    "pickle.dump(ds, open(f'data/T2D/T2D_ds.pkl', 'wb'))\n",
    "pickle.dump(cns, open(f'cn/T2D/CNE/cns_n_cns=6_perp=15_lam=0.25.pkl', 'wb'))\n",
    "pickle.dump(cns_smoothed_naive, open(f'cn/T2D/CNE/cns_n_cns=6_perp=15_lam=0.25_naive.pkl', 'wb'))\n",
    "pickle.dump(cns_smoothed_hmrf, open(f'cn/T2D/CNE/cns_n_cns=6_perp=15_lam=0.25_hmrf.pkl', 'wb'))"
   ]
  }
 ],
 "metadata": {
  "kernelspec": {
   "display_name": "env",
   "language": "python",
   "name": "python3"
  },
  "language_info": {
   "codemirror_mode": {
    "name": "ipython",
    "version": 3
   },
   "file_extension": ".py",
   "mimetype": "text/x-python",
   "name": "python",
   "nbconvert_exporter": "python",
   "pygments_lexer": "ipython3",
   "version": "3.8.17"
  }
 },
 "nbformat": 4,
 "nbformat_minor": 2
}
