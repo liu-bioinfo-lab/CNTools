{
 "cells": [
  {
   "cell_type": "code",
   "execution_count": 1,
   "metadata": {},
   "outputs": [],
   "source": [
    "from cntools.datasets import load_ct_order, prep_t2d, Dataset\n",
    "from cntools.identification import CC, CFIDF, CNE, Spatial_LDA\n",
    "from cntools.smoothing import NaiveSmooth, HMRF\n",
    "from cntools.utils import cns_info\n",
    "import os\n",
    "import pandas as pd\n",
    "import pickle"
   ]
  },
  {
   "cell_type": "code",
   "execution_count": 2,
   "metadata": {},
   "outputs": [],
   "source": [
    "# Download T2D data\n",
    "if not os.path.exists('data/T2D'):\n",
    "    os.system('gdown --folder https://drive.google.com/drive/folders/1eC3ahSIzCZ5vq_bynSl3IX7V9w_bQgg8?usp=share_link')"
   ]
  },
  {
   "cell_type": "code",
   "execution_count": 3,
   "metadata": {},
   "outputs": [],
   "source": [
    "# Load dataset\n",
    "df = prep_t2d(pd.read_csv('data/T2D/Cell-ID_by-islet.csv'))\n",
    "ct_order = load_ct_order('data/T2D/ct_order.json')\n",
    "ds = Dataset(df, ct_order)"
   ]
  },
  {
   "cell_type": "code",
   "execution_count": null,
   "metadata": {},
   "outputs": [],
   "source": [
    "# Save processed dataframe and dataset object\n",
    "df.to_csv('data/T2D/T2D_df.csv', index=False)\n",
    "pickle.dump(ds, open(f'data/T2D/T2D_ds.pkl', 'wb'))"
   ]
  },
  {
   "cell_type": "code",
   "execution_count": null,
   "metadata": {},
   "outputs": [],
   "source": [
    "# identifier = CC(n_cns=6, m=5)\n",
    "# identifier = CFIDF(n_cns=6, eps=57, r=1.0)\n",
    "identifier = CNE(n_cns=6, perp=15, lam=0.25)\n",
    "# identifier = Spatial_LDA(n_cns=6, eps=100, b=0.25, train_size_fraction=0.989)\n",
    "\n",
    "cns = identifier.fit(ds)"
   ]
  },
  {
   "cell_type": "code",
   "execution_count": null,
   "metadata": {},
   "outputs": [],
   "source": [
    "smoother = NaiveSmooth(ds=ds, n_cns=identifier.n_cns, feats=identifier.feats, s=3)\n",
    "cns_smoothed_naive = smoother.fit(cns)"
   ]
  },
  {
   "cell_type": "code",
   "execution_count": null,
   "metadata": {},
   "outputs": [],
   "source": [
    "smoother = HMRF(ds=ds, n_cns=identifier.n_cns, eps=45, beta=9)\n",
    "cns_smoothed_hmrf = smoother.fit(cns)"
   ]
  },
  {
   "cell_type": "code",
   "execution_count": 7,
   "metadata": {},
   "outputs": [],
   "source": [
    "out_dir = 'cn/T2D/CNE'\n",
    "os.makedirs(out_dir, exist_ok=True)\n",
    "pickle.dump(cns, open(f'{out_dir}/cns_n_cns=6_perp=15_lam=0.25.pkl', 'wb'))\n",
    "pickle.dump(cns_smoothed_naive, open(f'{out_dir}/cns_n_cns=6_perp=15_lam=0.25_naive.pkl', 'wb'))\n",
    "pickle.dump(cns_smoothed_hmrf, open(f'{out_dir}/cns_n_cns=6_perp=15_lam=0.25_hmrf.pkl', 'wb'))"
   ]
  }
 ],
 "metadata": {
  "kernelspec": {
   "display_name": "env",
   "language": "python",
   "name": "python3"
  },
  "language_info": {
   "codemirror_mode": {
    "name": "ipython",
    "version": 3
   },
   "file_extension": ".py",
   "mimetype": "text/x-python",
   "name": "python",
   "nbconvert_exporter": "python",
   "pygments_lexer": "ipython3",
   "version": "3.8.19"
  }
 },
 "nbformat": 4,
 "nbformat_minor": 2
}
