{
 "cells": [
  {
   "cell_type": "code",
   "execution_count": 2,
   "metadata": {},
   "outputs": [],
   "source": [
    "from CNTools.datasets import load_ct_order, prep_crc, Dataset\n",
    "from CNTools.identification import CC, CFIDF, CNE, Spatial_LDA\n",
    "from CNTools.smoothing import NaiveSmooth, HMRF\n",
    "import os\n",
    "import pandas as pd\n",
    "import pickle"
   ]
  },
  {
   "cell_type": "code",
   "execution_count": 16,
   "metadata": {},
   "outputs": [],
   "source": [
    "# Download CRC, T2D, and HLT data\n",
    "os.system('gdown --folder https://drive.google.com/drive/folders/1eC3ahSIzCZ5vq_bynSl3IX7V9w_bQgg8?usp=share_link')"
   ]
  },
  {
   "cell_type": "code",
   "execution_count": 3,
   "metadata": {},
   "outputs": [],
   "source": [
    "df = prep_crc(pd.read_csv('data/CRC/CRC_clusters_neighborhoods_markers.csv'))\n",
    "ct_order = load_ct_order('data/CRC/ct_order.json')\n",
    "ds = Dataset(df, ct_order)"
   ]
  },
  {
   "cell_type": "code",
   "execution_count": 18,
   "metadata": {},
   "outputs": [
    {
     "name": "stderr",
     "output_type": "stream",
     "text": [
      "100%|██████████| 35/35 [00:03<00:00,  9.89it/s]\n"
     ]
    },
    {
     "name": "stdout",
     "output_type": "stream",
     "text": [
      "Entropy: 2.605, Size: 34.52\n"
     ]
    }
   ],
   "source": [
    "# identifier = CFIDF(n_cns=9, eps=32, r=0.8)\n",
    "identifier = CNE(n_cns=9, perp=15, lam=0.25)\n",
    "# identifier = Spatial_LDA(n_cns=9, eps=50, b=0.025)\n",
    "\n",
    "cns = identifier.fit(ds)"
   ]
  },
  {
   "cell_type": "code",
   "execution_count": 19,
   "metadata": {},
   "outputs": [
    {
     "name": "stdout",
     "output_type": "stream",
     "text": [
      "Entropy: 2.624, Size: 48.08\n"
     ]
    }
   ],
   "source": [
    "smoother = NaiveSmooth(ds=ds, n_cns=identifier.n_cns, feats=identifier.feats, s=3)\n",
    "cns_smoothed_naive = smoother.fit(cns)"
   ]
  },
  {
   "cell_type": "code",
   "execution_count": 20,
   "metadata": {},
   "outputs": [
    {
     "name": "stdout",
     "output_type": "stream",
     "text": [
      "Entropy: 2.674, Size: 37.82\n"
     ]
    }
   ],
   "source": [
    "smoother = HMRF(ds=ds, n_cns=identifier.n_cns, eps=40, beta=9)\n",
    "cns_smoothed_hmrf = smoother.fit(cns)"
   ]
  },
  {
   "cell_type": "code",
   "execution_count": null,
   "metadata": {},
   "outputs": [],
   "source": [
    "df.to_csv('data/CRC/CRC_df.csv', index=False)\n",
    "pickle.dump(ds, open(f'data/CRC/CRC_ds.pkl', 'wb'))\n",
    "pickle.dump(cns, open(f'cn/CRC/CNE/cns_n_cns=9_perp=15_lam=0.25.pkl', 'wb'))\n",
    "pickle.dump(cns_smoothed_naive, open(f'cn/CRC/CNE/cns_n_cns=9_perp=15_lam=0.25_naive.pkl', 'wb'))\n",
    "pickle.dump(cns_smoothed_hmrf, open(f'cn/CRC/CNE/cns_n_cns=9_perp=15_lam=0.25_hmrf.pkl', 'wb'))"
   ]
  }
 ],
 "metadata": {
  "kernelspec": {
   "display_name": "env",
   "language": "python",
   "name": "python3"
  },
  "language_info": {
   "codemirror_mode": {
    "name": "ipython",
    "version": 3
   },
   "file_extension": ".py",
   "mimetype": "text/x-python",
   "name": "python",
   "nbconvert_exporter": "python",
   "pygments_lexer": "ipython3",
   "version": "3.8.17"
  }
 },
 "nbformat": 4,
 "nbformat_minor": 2
}
