{
 "cells": [
  {
   "cell_type": "code",
   "execution_count": 1,
   "metadata": {},
   "outputs": [],
   "source": [
    "from cntools.datasets import load_ct_order, prep_crc, prep_crc_ori, Dataset\n",
    "from cntools.identification import CC, CFIDF, CNE, Spatial_LDA\n",
    "from cntools.smoothing import NaiveSmooth, HMRF\n",
    "from cntools.utils import cns_info\n",
    "import os\n",
    "import pandas as pd\n",
    "import pickle"
   ]
  },
  {
   "cell_type": "code",
   "execution_count": 16,
   "metadata": {},
   "outputs": [],
   "source": [
    "# Download CRC, T2D, and HLT data\n",
    "# os.system('gdown --folder https://drive.google.com/drive/folders/1eC3ahSIzCZ5vq_bynSl3IX7V9w_bQgg8?usp=share_link')"
   ]
  },
  {
   "cell_type": "code",
   "execution_count": 9,
   "metadata": {},
   "outputs": [],
   "source": [
    "# Extract and save original CNs\n",
    "# df, cns = prep_crc_ori(pd.read_csv('data/CRC/CRC_clusters_neighborhoods_markers.csv'))\n",
    "# ct_order = load_ct_order('data/CRC/ct_order.json') + ['Dirt']\n",
    "# ds = Dataset(df, ct_order)\n",
    "\n",
    "# df.to_csv('data/CRC/CRC_df_ori.csv', index=False)\n",
    "# pickle.dump(ds, open(f'data/CRC/CRC_ds_ori.pkl', 'wb'))\n",
    "# pickle.dump(cns, open(f'cn/CRC/CC_ori/cns.pkl', 'wb'))"
   ]
  },
  {
   "cell_type": "code",
   "execution_count": 11,
   "metadata": {},
   "outputs": [],
   "source": [
    "# Extract and save original CNs without \"dirt\" cell type\n",
    "# df, cns = prep_crc_ori(pd.read_csv('data/CRC/CRC_clusters_neighborhoods_markers.csv'), no_dirt=True)\n",
    "# ct_order = load_ct_order('data/CRC/ct_order.json')\n",
    "# ds = Dataset(df, ct_order)\n",
    "\n",
    "# df.to_csv('data/CRC/CRC_df_ori_nodirt.csv', index=False)\n",
    "# pickle.dump(ds, open(f'data/CRC/CRC_ds_ori_nodirt.pkl', 'wb'))\n",
    "# pickle.dump(cns, open(f'cn/CRC/CC_ori/cns_nodirt.pkl', 'wb'))"
   ]
  },
  {
   "cell_type": "code",
   "execution_count": 11,
   "metadata": {},
   "outputs": [],
   "source": [
    "# Load dataset\n",
    "df = prep_crc(pd.read_csv('data/CRC/CRC_clusters_neighborhoods_markers.csv'))\n",
    "ct_order = load_ct_order('data/CRC/ct_order.json')\n",
    "ds = Dataset(df, ct_order)"
   ]
  },
  {
   "cell_type": "code",
   "execution_count": null,
   "metadata": {},
   "outputs": [],
   "source": [
    "# Save processed dataframe and dataset object\n",
    "df.to_csv('data/CRC/CRC_df.csv', index=False)\n",
    "pickle.dump(ds, open(f'data/CRC/CRC_ds.pkl', 'wb'))"
   ]
  },
  {
   "cell_type": "code",
   "execution_count": null,
   "metadata": {},
   "outputs": [],
   "source": [
    "# identifier = CC(n_cns=9, m=8)\n",
    "# identifier = CFIDF(n_cns=9, eps=32, r=0.8)\n",
    "identifier = CNE(n_cns=9, perp=15, lam=0.25)\n",
    "# identifier = Spatial_LDA(n_cns=9, eps=50, b=0.025)\n",
    "\n",
    "cns = identifier.fit(ds)"
   ]
  },
  {
   "cell_type": "code",
   "execution_count": null,
   "metadata": {},
   "outputs": [],
   "source": [
    "smoother = NaiveSmooth(ds=ds, n_cns=identifier.n_cns, feats=identifier.feats, s=3)\n",
    "cns_smoothed_naive = smoother.fit(cns)"
   ]
  },
  {
   "cell_type": "code",
   "execution_count": null,
   "metadata": {},
   "outputs": [],
   "source": [
    "smoother = HMRF(ds=ds, n_cns=identifier.n_cns, eps=40, beta=9)\n",
    "cns_smoothed_hmrf = smoother.fit(cns)"
   ]
  },
  {
   "cell_type": "code",
   "execution_count": 8,
   "metadata": {},
   "outputs": [],
   "source": [
    "out_dir = 'cn/CRC/CNE'\n",
    "os.makedirs(out_dir, exist_ok=True)\n",
    "pickle.dump(cns, open(f'{out_dir}/cns_n_cns=9_perp=15_lam=0.25.pkl', 'wb'))\n",
    "pickle.dump(cns_smoothed_naive, open(f'{out_dir}/cns_n_cns=9_perp=15_lam=0.25_naive.pkl', 'wb'))\n",
    "pickle.dump(cns_smoothed_hmrf, open(f'{out_dir}/cns_n_cns=9_perp=15_lam=0.25_hmrf.pkl', 'wb'))"
   ]
  }
 ],
 "metadata": {
  "kernelspec": {
   "display_name": "env",
   "language": "python",
   "name": "python3"
  },
  "language_info": {
   "codemirror_mode": {
    "name": "ipython",
    "version": 3
   },
   "file_extension": ".py",
   "mimetype": "text/x-python",
   "name": "python",
   "nbconvert_exporter": "python",
   "pygments_lexer": "ipython3",
   "version": "3.10.12"
  }
 },
 "nbformat": 4,
 "nbformat_minor": 2
}
